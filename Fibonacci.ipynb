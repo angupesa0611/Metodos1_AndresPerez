{
 "cells": [
  {
   "cell_type": "markdown",
   "id": "4dfab872",
   "metadata": {},
   "source": [
    "<h1>5 Sucesión de Fibonnaci</h1>"
   ]
  },
  {
   "cell_type": "markdown",
   "id": "60afb78f",
   "metadata": {},
   "source": [
    "<h5>Andrés Gustavo Pérez Sarmiento</h5>\n",
    "<h5>201922891</h5>"
   ]
  },
  {
   "cell_type": "markdown",
   "id": "eafbfdb9",
   "metadata": {},
   "source": [
    "<h5>1.</h5>"
   ]
  },
  {
   "cell_type": "code",
   "execution_count": 1,
   "id": "89a045e0",
   "metadata": {},
   "outputs": [],
   "source": [
    "def fibonnaci(n):\n",
    "    if n == 0:\n",
    "        return 0\n",
    "    elif n == 1:\n",
    "        return 1\n",
    "    else:\n",
    "        return (fibonnaci(n-1)+fibonnaci(n-2))"
   ]
  },
  {
   "cell_type": "code",
   "execution_count": 2,
   "id": "3bc53b61",
   "metadata": {},
   "outputs": [],
   "source": [
    "def lisfibonnaci(n):\n",
    "    i=0\n",
    "    datos=[]\n",
    "    while n+1 > 0:\n",
    "        datos.append([i,fibonnaci(i)])\n",
    "        print([i,fibonnaci(i)])\n",
    "        i=i+1\n",
    "        n=n-1"
   ]
  },
  {
   "cell_type": "code",
   "execution_count": 3,
   "id": "5e52a37f",
   "metadata": {},
   "outputs": [
    {
     "name": "stdout",
     "output_type": "stream",
     "text": [
      "[0, 0]\n",
      "[1, 1]\n",
      "[2, 1]\n",
      "[3, 2]\n",
      "[4, 3]\n",
      "[5, 5]\n",
      "[6, 8]\n",
      "[7, 13]\n",
      "[8, 21]\n",
      "[9, 34]\n",
      "[10, 55]\n",
      "[11, 89]\n",
      "[12, 144]\n",
      "[13, 233]\n",
      "[14, 377]\n",
      "[15, 610]\n",
      "[16, 987]\n",
      "[17, 1597]\n",
      "[18, 2584]\n",
      "[19, 4181]\n",
      "[20, 6765]\n",
      "None\n"
     ]
    }
   ],
   "source": [
    "print(lisfibonnaci(20))"
   ]
  },
  {
   "cell_type": "markdown",
   "id": "8bf691b4",
   "metadata": {},
   "source": [
    "<h5>2.</h5>"
   ]
  },
  {
   "cell_type": "code",
   "execution_count": 4,
   "id": "5980184c",
   "metadata": {},
   "outputs": [],
   "source": [
    "import numpy as np\n",
    "import matplotlib.pyplot as plt"
   ]
  },
  {
   "cell_type": "code",
   "execution_count": 5,
   "id": "58ef8016",
   "metadata": {},
   "outputs": [],
   "source": [
    "def matfibonnaci(n):\n",
    "    i=0\n",
    "    a=[]\n",
    "    b=[]\n",
    "    while n+1 > 0:\n",
    "        a.append(i)\n",
    "        b.append(fibonnaci(i))\n",
    "        i=i+1\n",
    "        n=n-1\n",
    "    return [a,b]"
   ]
  },
  {
   "cell_type": "code",
   "execution_count": 6,
   "id": "f46f6ed2",
   "metadata": {},
   "outputs": [
    {
     "data": {
      "image/png": "[encoded data removed]",
      "text/plain": [
       "<Figure size 432x288 with 1 Axes>"
      ]
     },
     "metadata": {
      "needs_background": "light"
     },
     "output_type": "display_data"
    }
   ],
   "source": [
    "x=matfibonnaci(20)[0]\n",
    "y=matfibonnaci(20)[1]\n",
    "plt.plot(x,y)\n",
    "plt.xlabel('n')\n",
    "plt.ylabel('Fibonnaci')\n",
    "plt.ylabel('Grafica de numero n contra su numero de Fibonnaci')\n",
    "plt.show()"
   ]
  },
  {
   "cell_type": "markdown",
   "id": "56614103",
   "metadata": {},
   "source": [
    "<h5>3.</h5>"
   ]
  },
  {
   "cell_type": "markdown",
   "id": "30644e6b",
   "metadata": {},
   "source": [
    "*a fuerza bruta, es decir, metiendo un numero muy grande*"
   ]
  },
  {
   "cell_type": "code",
   "execution_count": 7,
   "id": "374d68a6",
   "metadata": {},
   "outputs": [],
   "source": [
    "def aureo(n):\n",
    "    return fibonnaci(n+1)/fibonnaci(n)"
   ]
  },
  {
   "cell_type": "code",
   "execution_count": 14,
   "id": "4aa10ee4",
   "metadata": {},
   "outputs": [
    {
     "name": "stdout",
     "output_type": "stream",
     "text": [
      "El numero aureo calculado con n=10000 es: 1.6180339985218033\n",
      "El numero aureo calculado matematicamente es: 1.618033988749895\n",
      "El error porcentual fue de: -6.039371522179324e-07%\n"
     ]
    }
   ],
   "source": [
    "calO=aureo(20)\n",
    "O=(1+5**0.5)/2\n",
    "dif= (O-calO)/O*100\n",
    "print(\"El numero aureo calculado con n=10000 es: \"+str(calO))\n",
    "print(\"El numero aureo calculado matematicamente es: \"+str(O))\n",
    "print(\"El error porcentual fue de: \"+str(dif)+\"%\")"
   ]
  },
  {
   "cell_type": "code",
   "execution_count": 15,
   "id": "be6efcc2",
   "metadata": {},
   "outputs": [
    {
     "data": {
      "image/png": "[encoded data removed]",
      "text/plain": [
       "<Figure size 432x288 with 1 Axes>"
      ]
     },
     "metadata": {
      "needs_background": "light"
     },
     "output_type": "display_data"
    }
   ],
   "source": [
    "import numpy as np\n",
    "import matplotlib.pyplot as plt\n",
    "n=20\n",
    "i=1\n",
    "x=[]\n",
    "y=[]\n",
    "z=[]\n",
    "while i <= n:\n",
    "    x.append(i)\n",
    "    y.append(aureo(i))\n",
    "    z.append(O)\n",
    "    i=i+1\n",
    "plt.plot(x,y)\n",
    "plt.plot(x,z)\n",
    "plt.xlabel('indice del primo')\n",
    "plt.ylabel('Fibonnaci')\n",
    "plt.show()"
   ]
  }
 ],
 "metadata": {
  "kernelspec": {
   "display_name": "Python 3",
   "language": "python",
   "name": "python3"
  },
  "language_info": {
   "codemirror_mode": {
    "name": "ipython",
    "version": 3
   },
   "file_extension": ".py",
   "mimetype": "text/x-python",
   "name": "python",
   "nbconvert_exporter": "python",
   "pygments_lexer": "ipython3",
   "version": "3.8.8"
  }
 },
 "nbformat": 4,
 "nbformat_minor": 5
}
