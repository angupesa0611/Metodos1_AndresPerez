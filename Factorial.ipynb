{
 "cells": [
  {
   "cell_type": "markdown",
   "id": "dcefc4ca",
   "metadata": {},
   "source": [
    "<h1> 3 Números factoriales </h1>"
   ]
  },
  {
   "cell_type": "markdown",
   "id": "0ae00234",
   "metadata": {},
   "source": [
    "<h5> Andrés Gustavo Pérez Sarmiento </h5>\n",
    "<h5> 201922891 </h5>"
   ]
  },
  {
   "cell_type": "markdown",
   "id": "d57477c3",
   "metadata": {},
   "source": [
    "<h6> 1. </h5>"
   ]
  },
  {
   "cell_type": "code",
   "execution_count": 1,
   "id": "bc453d4d",
   "metadata": {},
   "outputs": [],
   "source": [
    "def factorial(n):\n",
    "    i=1\n",
    "    res=1\n",
    "    while n+1 > 1:\n",
    "        res=res*i\n",
    "        i=i+1\n",
    "        n=n-1\n",
    "    return res"
   ]
  },
  {
   "cell_type": "code",
   "execution_count": 2,
   "id": "213b49f1",
   "metadata": {},
   "outputs": [],
   "source": [
    "def lisfactoriales(n):\n",
    "    i=0\n",
    "    while i < n+1:\n",
    "        print(str(i)+\" \"+str(factorial(i)))\n",
    "        i=i+1"
   ]
  },
  {
   "cell_type": "code",
   "execution_count": 3,
   "id": "edc6e437",
   "metadata": {
    "scrolled": true
   },
   "outputs": [
    {
     "name": "stdout",
     "output_type": "stream",
     "text": [
      "0 1\n",
      "1 1\n",
      "2 2\n",
      "3 6\n",
      "4 24\n",
      "5 120\n",
      "6 720\n",
      "7 5040\n",
      "8 40320\n",
      "9 362880\n",
      "10 3628800\n",
      "11 39916800\n",
      "12 479001600\n",
      "13 6227020800\n",
      "14 87178291200\n",
      "15 1307674368000\n",
      "16 20922789888000\n",
      "17 355687428096000\n",
      "18 6402373705728000\n",
      "19 121645100408832000\n",
      "20 2432902008176640000\n"
     ]
    }
   ],
   "source": [
    "lisfactoriales(20)"
   ]
  },
  {
   "cell_type": "markdown",
   "id": "c9f1e5ff",
   "metadata": {},
   "source": [
    "<h6> 2. </h6>"
   ]
  },
  {
   "cell_type": "code",
   "execution_count": 4,
   "id": "925b6d68",
   "metadata": {},
   "outputs": [],
   "source": [
    "def variaciones(n, r):\n",
    "    res=factorial(n)/factorial(n-r)\n",
    "    print(\"Las variaciones sin repetición con n=\"+str(n)+\" y r=\"+str(r))\n",
    "    print(\"son: \"+str(res))"
   ]
  },
  {
   "cell_type": "code",
   "execution_count": 5,
   "id": "f2f6701c",
   "metadata": {},
   "outputs": [
    {
     "name": "stdout",
     "output_type": "stream",
     "text": [
      "Las variaciones sin repetición con n=6 y r=3\n",
      "son: 120.0\n",
      "None\n"
     ]
    }
   ],
   "source": [
    "print(variaciones(6,3))"
   ]
  },
  {
   "cell_type": "markdown",
   "id": "43aba2cd",
   "metadata": {},
   "source": [
    "<h6> 3. </h6>"
   ]
  },
  {
   "cell_type": "code",
   "execution_count": 6,
   "id": "849fdfbb",
   "metadata": {},
   "outputs": [],
   "source": [
    "def combinacion(m,n):\n",
    "    if m > n:\n",
    "        print(\"El valor de m es mayor a n. Introduzca nuevos parametros\")\n",
    "    else:\n",
    "        res=factorial(n)/(factorial(m)*factorial(n-m))\n",
    "        print(\"Las combinaciones sin repetición con n=\"+str(n)+\" y m=\"+str(m))\n",
    "        print(\"son: \"+str(res))"
   ]
  },
  {
   "cell_type": "markdown",
   "id": "2111487f",
   "metadata": {},
   "source": [
    "<h6>a)</h6>"
   ]
  },
  {
   "cell_type": "code",
   "execution_count": 7,
   "id": "4eb87e7e",
   "metadata": {
    "scrolled": true
   },
   "outputs": [
    {
     "name": "stdout",
     "output_type": "stream",
     "text": [
      "Las combinaciones sin repetición con n=22 y m=11\n",
      "son: 705432.0\n",
      "None\n"
     ]
    }
   ],
   "source": [
    "print(combinacion(11,22))"
   ]
  },
  {
   "cell_type": "markdown",
   "id": "c92dfd5f",
   "metadata": {},
   "source": [
    "<h6>b)</h6>\n",
    "<h6>*Debido a que hay una posición menos disponible (ya se sabe quién es el arquero) m se reduce en 1*</h6>"
   ]
  },
  {
   "cell_type": "code",
   "execution_count": 8,
   "id": "186f5a3a",
   "metadata": {},
   "outputs": [
    {
     "name": "stdout",
     "output_type": "stream",
     "text": [
      "Las combinaciones sin repetición con n=21 y m=11\n",
      "son: 352716.0\n",
      "None\n"
     ]
    }
   ],
   "source": [
    "print(combinacion(11,21))"
   ]
  }
 ],
 "metadata": {
  "kernelspec": {
   "display_name": "Python 3",
   "language": "python",
   "name": "python3"
  },
  "language_info": {
   "codemirror_mode": {
    "name": "ipython",
    "version": 3
   },
   "file_extension": ".py",
   "mimetype": "text/x-python",
   "name": "python",
   "nbconvert_exporter": "python",
   "pygments_lexer": "ipython3",
   "version": "3.8.8"
  }
 },
 "nbformat": 4,
 "nbformat_minor": 5
}
