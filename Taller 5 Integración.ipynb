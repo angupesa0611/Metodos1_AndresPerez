{
 "cells": [
  {
   "cell_type": "markdown",
   "metadata": {},
   "source": [
    "<h1>Integración</h1>"
   ]
  },
  {
   "cell_type": "code",
   "execution_count": 1,
   "metadata": {},
   "outputs": [],
   "source": [
    "import sympy as sym\n",
    "import numpy as np\n",
    "import matplotlib.pyplot as plt"
   ]
  },
  {
   "cell_type": "markdown",
   "metadata": {},
   "source": [
    "1."
   ]
  },
  {
   "cell_type": "markdown",
   "metadata": {},
   "source": [
    "Para verificar esto solo debemos calcular la integral\n",
    "\n",
    "\\begin{equation}\n",
    "\\int_a^b \\frac{x-b}{a-b}f(a)+\\frac{x-a}{b-a}f(b) dx\n",
    "\\end{equation}\n",
    "\\begin{equation}\n",
    "\\frac{f(a)}{a-b}\\int_a^b(x-b)dx+\\frac{f(b)}{b-a}\\int_a^b(x-a)dx\n",
    "\\end{equation}\n",
    "\\begin{equation}\n",
    "\\frac{-f(a)(a-b)^2}{2(a-b)}+\\frac{f(b)(b-a)^2}{2(b-a)}\n",
    "\\end{equation}\n",
    "\n",
    "Hay que notar que:\n",
    "\n",
    "\\begin{equation}\n",
    "(b-a)^2=(a-b)^2\n",
    "\\end{equation}\n",
    "\\begin{equation}\n",
    "(a-b)=-(b-a)\n",
    "\\end{equation}\n",
    "\n",
    "Ya con esto despejamos y obtenemos:\n",
    "\n",
    "\\begin{equation}\n",
    "\\frac{b-a}{2}(f(a)+f(b))\n",
    "\\end{equation}"
   ]
  },
  {
   "cell_type": "markdown",
   "metadata": {},
   "source": [
    "2."
   ]
  },
  {
   "cell_type": "markdown",
   "metadata": {},
   "source": [
    "Para verificar esto solo debemos calcular la integral\n",
    "\n",
    "\\begin{equation}\n",
    "\\frac{f^{II}(\\xi)}{2}*(\\int_a^bx^2dx+\\int_a^bxbdx+\\int_a^bxadx+\\int_a^babdx)\n",
    "\\end{equation}\n",
    "\n",
    "Luego de simplificar la larga expresión se llega a:\n",
    "\n",
    "\\begin{equation}\n",
    "\\frac{f^{II}(\\xi)}{2}*(-\\frac{b^3}{6}+\\frac{ab^2}{2}-\\frac{a^2b}{2}+\\frac{a^3}{6})\n",
    "\\end{equation}\n",
    "\n",
    "o\n",
    "\n",
    "\\begin{equation}\n",
    "-\\frac{f^{II}(\\xi)}{12}*(b^3-3ab^2+3a^2b+a^3)\n",
    "\\end{equation}\n",
    "\n",
    "Recuerden que:\n",
    "\n",
    "\\begin{equation}\n",
    "h=\\frac{b-a}{n}\n",
    "\\end{equation}\n",
    "\\begin{equation}\n",
    "n=1\n",
    "\\end{equation}\n",
    "\n",
    "Así que:\n",
    "\n",
    "\\begin{equation}\n",
    "(b^3-3ab^2+3a^b+a^3)=(b-a)^3=h^3\n",
    "\\end{equation}\n",
    "\\begin{equation}\n",
    "-\\frac{h^3}{12}f^{II}(\\xi)\n",
    "\\end{equation}"
   ]
  },
  {
   "cell_type": "markdown",
   "metadata": {},
   "source": [
    "3."
   ]
  },
  {
   "cell_type": "markdown",
   "metadata": {},
   "source": [
    "Antes de empezar, recordemos:\n",
    "\n",
    "\\begin{equation}\n",
    "x_m=\\frac{a+b}{2}\n",
    "\\end{equation}\n",
    "\n",
    "Ahora miremos la integral que necesitamos calcular:\n",
    "\n",
    "\\begin{equation}\n",
    "\\int_a^b\\frac{(x-b)(x-x_m)}{(a-b)(a-x_m)}f(a)dx+\\int_a^b\\frac{(x-a)(x-b)}{(x_m-a)(x_m-b)}f(x_m)dx+\\int_a^b\\frac{(x-a)(x-x_m)}{(b-a)(b-x_m)}f(b)dx\n",
    "\\end{equation}\n",
    "\n",
    "Metamos la definición de $x_m$\n",
    "\n",
    "*Hay tres integrales, hagamoslas individualmente y luego juntemos los resultados\n",
    "\n",
    "Para $f(a)$:\n",
    "\n",
    "\\begin{equation}\n",
    "\\int_a^b\\frac{(x-b)(x-x_m)}{(a-b)(a-x_m)}f(a)dx=\\frac{2f(a)}{(a-b)^2}(\\frac{b^3}{12}-\\frac{ab^2}{4}+\\frac{a^2b}{4}-\\frac{a^3}{12})\n",
    "\\end{equation}\n",
    "\n",
    "Para $f(x_m)$:\n",
    "\n",
    "\\begin{equation}\n",
    "\\int_a^b\\frac{(x-a)(x-b)}{(x_m-a)(x_m-b)}f(x_m)dx=-\\frac{4f(x_m)}{(a-b)^2}(-\\frac{b^3}{6}+\\frac{ab^2}{2}-\\frac{a^2b}{2}+\\frac{a^3}{4})\n",
    "\\end{equation}\n",
    "\n",
    "Para $f(b)$:\n",
    "\n",
    "\\begin{equation}\n",
    "\\int_a^b\\frac{(x-a)(x-x_m)}{(b-a)(b-x_m)}f(b)dx=\\frac{2f(b)}{(a-b)^2}(\\frac{b^3}{12}-\\frac{ab^2}{4}+\\frac{a^2b}{4}-\\frac{a^3}{12})\n",
    "\\end{equation}\n",
    "\n",
    "Juntamos las expresiones\n",
    "\n",
    "\\begin{equation}\n",
    "\\frac{(b-a)^3}{6(b-a)^2}(f(a)+4f(x_m)+f(b))=\\frac{b-a}{2*3}(f(a)+4f(x_m)+f(b))\n",
    "\\end{equation}\n",
    "\n",
    "Y recordemos del punto de arriba...\n",
    "\n",
    "\\begin{equation}\n",
    "h=\\frac{b-a}{2}\n",
    "\\end{equation}\n",
    "\n",
    "Porque n=2\n",
    "\n",
    "Usando esta definición:\n",
    "\n",
    "\\begin{equation}\n",
    "\\frac{h}{3}(f(a)+4f(x_m)+f(b))\n",
    "\\end{equation}"
   ]
  },
  {
   "cell_type": "markdown",
   "metadata": {},
   "source": [
    "4."
   ]
  },
  {
   "cell_type": "markdown",
   "metadata": {},
   "source": [
    "\\begin{equation}\n",
    "\\int_a^b\\frac{f^{III}(\\xi)}{4!}(x − a)(x − b)(x − \\frac{a + b}{2})dx=0\n",
    "\\end{equation}\n",
    "\\begin{equation}\n",
    "\\frac{f^{III}(\\xi)}{24}\\int_a^b(x-a)(x − b)(x − \\frac{a + b}{2})dx\n",
    "\\end{equation}\n",
    "\n",
    "Analicemos la ecuación dentro de la integral:$(x-a)(x − b)(x − \\frac{a + b}{2})$\n",
    "\n",
    "1. Si la expandimos conseguimos una cúbica, que si es de pendientes iguales a cada lado del centro, es una función impar (tal vez, trasladada del origen).\n",
    "\n",
    "2. Los 0's de la ecuación están en $a$,$b$ y $h$. $h$, estando entre $a$ y $b$, es el \"centro\" de la función.\n",
    "\n",
    "3. La distancia de $(b,h)$ es la misma que de $(h,a)$\n",
    "\n",
    "4. Ninguna de las x tiene un multiplo escalar --> los dos segmentos a cada lado del centro tienen las mismas pendientes.\n",
    "\n",
    "5. Por 3 y 4, la función ES IMPAR pero trasladada una distancia $h$ del origen en el eje x.\n",
    "\n",
    "6. Por simetría, si se integra una función impar desde $(c-n)$ hasta $(c+n)$, dónde $c$ es el centro y $n$ una distancia arbitraria, el resultado de la integral es 0.\n",
    "\n",
    "Por ende, si integramos esta función en un intervalo $[a,b]$, teniendo en cuenta 2, 5 y 6, la integral de esta función será 0."
   ]
  },
  {
   "cell_type": "markdown",
   "metadata": {},
   "source": [
    "5."
   ]
  },
  {
   "cell_type": "code",
   "execution_count": 2,
   "metadata": {},
   "outputs": [
    {
     "data": {
      "image/png": "[encoded data removed]",
      "text/plain": [
       "<Figure size 432x288 with 1 Axes>"
      ]
     },
     "metadata": {
      "needs_background": "light"
     },
     "output_type": "display_data"
    }
   ],
   "source": [
    "def s(x): return ((4*x**2-2)*np.exp(-x**2));\n",
    "X=np.linspace(0,1,1000)\n",
    "Y=s(X)\n",
    "plt.plot(X,Y)\n",
    "plt.show()"
   ]
  },
  {
   "cell_type": "markdown",
   "metadata": {},
   "source": [
    "Al graficar la segunda derivada se nota que el maximo en el intervalo $[0,1]$ está en 1."
   ]
  },
  {
   "cell_type": "code",
   "execution_count": 4,
   "metadata": {},
   "outputs": [
    {
     "name": "stdout",
     "output_type": "stream",
     "text": [
      "3.5018063965685022\n"
     ]
    }
   ],
   "source": [
    "vmax=s(1)\n",
    "e=0.005\n",
    "a=0\n",
    "b=1\n",
    "n=((b-a)**3/(12*e)*vmax)**0.5\n",
    "print(n)\n",
    "def g(x): return(np.exp(-x**2));"
   ]
  },
  {
   "cell_type": "markdown",
   "metadata": {},
   "source": [
    "Se rendondea el valor de n al entero superior más, cercano. en este caso, 4."
   ]
  },
  {
   "cell_type": "code",
   "execution_count": 11,
   "metadata": {},
   "outputs": [
    {
     "name": "stdout",
     "output_type": "stream",
     "text": [
      "0.7429840978003812\n"
     ]
    }
   ],
   "source": [
    "n=4\n",
    "h=(b-a)/n\n",
    "def tcomp(h,b,a,n):\n",
    "    ta=h/2*(g(a)+g(b))\n",
    "    tb=0\n",
    "    for i in range(n-1):\n",
    "        tb=tb+g(a+h*(i+1))\n",
    "    tb=h*tb\n",
    "    return(ta+tb)\n",
    "print(tcomp(h,b,a,n))"
   ]
  },
  {
   "cell_type": "markdown",
   "metadata": {},
   "source": [
    "8."
   ]
  },
  {
   "cell_type": "markdown",
   "metadata": {},
   "source": [
    "a."
   ]
  },
  {
   "cell_type": "code",
   "execution_count": 48,
   "metadata": {},
   "outputs": [
    {
     "name": "stdout",
     "output_type": "stream",
     "text": [
      "La función cardinal para X_0 es:\n",
      "(-b + x)*(-2*a/3 - b/3 + x)*(-a/3 - 2*b/3 + x)/((a/3 - b/3)*(2*a/3 - 2*b/3)*(a - b))\n",
      "\n",
      "La función cardinal para X_1 es:\n",
      "(-a + x)*(-b + x)*(-a/3 - 2*b/3 + x)/((-a/3 + b/3)*(a/3 - b/3)*(2*a/3 - 2*b/3))\n",
      "\n",
      "La función cardinal para X_2 es:\n",
      "(-a + x)*(-b + x)*(-2*a/3 - b/3 + x)/((-2*a/3 + 2*b/3)*(-a/3 + b/3)*(a/3 - b/3))\n",
      "\n",
      "La función cardinal para X_3 es:\n",
      "(-a + x)*(-2*a/3 - b/3 + x)*(-a/3 - 2*b/3 + x)/((-a + b)*(-2*a/3 + 2*b/3)*(-a/3 + b/3))\n",
      "\n"
     ]
    }
   ],
   "source": [
    "x=sym.symbols('x')\n",
    "a=sym.symbols('a')\n",
    "b=sym.symbols('b')\n",
    "f=sym.Function('f')\n",
    "h=(b-a)/3\n",
    "X=[a, (2*a+b)/3, (a+2*b)/3, b]\n",
    "def cardinal(x,X,j):\n",
    "    cardi=1\n",
    "    for i in range(4):\n",
    "        if i!=j:\n",
    "            cardi*=((x-X[i])/(X[j]-X[i]))\n",
    "    return(cardi)\n",
    "M=[]\n",
    "for i in range(4):\n",
    "    res=cardinal(x,X,i)\n",
    "    print(\"La función cardinal para X_\"+str(i)+\" es:\")\n",
    "    print(res)\n",
    "    print(\"\")\n",
    "    M.append(res)"
   ]
  },
  {
   "cell_type": "code",
   "execution_count": 49,
   "metadata": {},
   "outputs": [
    {
     "data": {
      "text/latex": [
       "$\\displaystyle - \\frac{a f{\\left(a \\right)}}{8} - \\frac{a f{\\left(b \\right)}}{8} - \\frac{3 a f{\\left(\\frac{a}{3} + \\frac{2 b}{3} \\right)}}{8} - \\frac{3 a f{\\left(\\frac{2 a}{3} + \\frac{b}{3} \\right)}}{8} + \\frac{b f{\\left(a \\right)}}{8} + \\frac{b f{\\left(b \\right)}}{8} + \\frac{3 b f{\\left(\\frac{a}{3} + \\frac{2 b}{3} \\right)}}{8} + \\frac{3 b f{\\left(\\frac{2 a}{3} + \\frac{b}{3} \\right)}}{8}$"
      ],
      "text/plain": [
       "-a*f(a)/8 - a*f(b)/8 - 3*a*f(a/3 + 2*b/3)/8 - 3*a*f(2*a/3 + b/3)/8 + b*f(a)/8 + b*f(b)/8 + 3*b*f(a/3 + 2*b/3)/8 + 3*b*f(2*a/3 + b/3)/8"
      ]
     },
     "execution_count": 49,
     "metadata": {},
     "output_type": "execute_result"
    }
   ],
   "source": [
    "suma=0\n",
    "for i in range(4):\n",
    "    y=f(X[i])\n",
    "    suma+=M[i]*y\n",
    "sym.simplify(sym.integrate(suma,(x,a,b)))"
   ]
  },
  {
   "cell_type": "markdown",
   "metadata": {},
   "source": [
    "Si se simplifica más la expresión se obtiene:\n",
    "\n",
    "\\begin{equation}\n",
    "\\frac{(b-a)}{8}f(a)+\\frac{(b-a)}{8}f(b)+\\frac{3(b-a)}{8}f(\\frac{a+2b}{3})+\\frac{3(b-a)}{8}f(\\frac{b-2a}{3})\n",
    "\\end{equation}\n",
    "\n",
    "Es decir:\n",
    "\n",
    "\\begin{equation}\n",
    "\\frac{b-a}{8}[f(a)+3f(\\frac{2a+b}{3})+3f(\\frac{a+2b}{3})+f(b)]\n",
    "\\end{equation}\n",
    "\n",
    "como $h=\\frac{b-a}{3}$, se puede reescribir como:\n",
    "\n",
    "\\begin{equation}\n",
    "\\frac{3h}{8}[f(a)+3f(\\frac{2a+b}{3})+3f(\\frac{a+2b}{3})+f(b)]\n",
    "\\end{equation}"
   ]
  },
  {
   "cell_type": "markdown",
   "metadata": {},
   "source": [
    "b."
   ]
  },
  {
   "cell_type": "markdown",
   "metadata": {},
   "source": [
    "h es el tamaño del \"salto\" entre nuestos $x_n$\n",
    "\n",
    "Considerando que empezamos en \"a\", el final del si hacemos el salto el $x_1$ será $a+h=\\frac{3a+b-a}{3}$ --> $\\frac{2a+b}{3}$\n",
    "\n",
    "El siguiente intervalo será entre a+h y a+2h, así que el el $x_2$ es $a+2h=\\frac{3a+2b-2a}{3}$ --> $\\frac{a+2b}{3}$\n",
    "\n",
    "Y el ultimo intervalo es entre a+2h y a+3h el cual tiene punto final en $a+3h=\\frac{3a+3b-3a}{3}$ --> $b$"
   ]
  },
  {
   "cell_type": "markdown",
   "metadata": {},
   "source": [
    "9."
   ]
  },
  {
   "cell_type": "code",
   "execution_count": 12,
   "metadata": {},
   "outputs": [
    {
     "name": "stdout",
     "output_type": "stream",
     "text": [
      "La integral es: a**5/270 - a**4*b/54 + a**3*b**2/27 - a**2*b**3/27 + a*b**4/54 - b**5/270\n",
      "\n",
      "Notemos que: -a**5 + 5*a**4*b - 10*a**3*b**2 + 10*a**2*b**3 - 5*a*b**4 + b**5\n"
     ]
    }
   ],
   "source": [
    "x=sym.symbols('x')\n",
    "a=sym.symbols('a')\n",
    "b=sym.symbols('b')\n",
    "X=[a, (2*a+b)/3, (a+2*b)/3, b]\n",
    "\n",
    "l=(x-X[0])*(x-X[1])*(x-X[2])*(x-X[3])\n",
    "print(\"La integral es: \"+str(sym.simplify(sym.integrate(l,(x,a,b)))))\n",
    "print(\"\")\n",
    "print(\"Notemos que: \"+str(sym.expand((b-a)**5)))"
   ]
  },
  {
   "cell_type": "markdown",
   "metadata": {},
   "source": [
    "Si simplificamos usando la relación mencionada arriba, sacamos el negativo del resultado de la integral, y añadimos el factor de $\\frac{f^{(4)}(\\xi)}{4!}$ obtenemos:\n",
    "\n",
    "\\begin{equation}\n",
    "-\\frac{3}{80}h^5f^{(4)}(\\xi)\n",
    "\\end{equation}"
   ]
  },
  {
   "cell_type": "markdown",
   "metadata": {},
   "source": [
    "11."
   ]
  },
  {
   "cell_type": "code",
   "execution_count": 14,
   "metadata": {},
   "outputs": [
    {
     "name": "stdout",
     "output_type": "stream",
     "text": [
      "2.649579329907684\n"
     ]
    }
   ],
   "source": [
    "def f(x): return((1+np.exp(-x**2))**0.5);\n",
    "a=-1\n",
    "b=1\n",
    "h=2/3\n",
    "X=[-1, -1/3, 1/3, 1]\n",
    "Y=[]\n",
    "for i in X:\n",
    "    Y.append(f(i))\n",
    "\n",
    "print(3*h/8*(f(X[0])+3*f(X[1])+3*f(X[2])+f(X[3])))"
   ]
  },
  {
   "cell_type": "markdown",
   "metadata": {},
   "source": [
    "12."
   ]
  },
  {
   "cell_type": "code",
   "execution_count": 71,
   "metadata": {},
   "outputs": [
    {
     "name": "stdout",
     "output_type": "stream",
     "text": [
      "0.4970414201183432\n",
      "0.499874023683547\n"
     ]
    }
   ],
   "source": [
    "def f(x): return(1/x**2);\n",
    "\n",
    "def gauss2(a,b):\n",
    "    return((b-a)/2*(f((b-a)/2*-3**0.5/3+(b+a)/2)+f((b-a)/2*3**0.5/3+(b+a)/2)))\n",
    "\n",
    "def gauss3(a,b):\n",
    "    return((b-a)/2*(8/9*f((b+a)/2)+5/9*f((b-a)/10*15**0.5+(b+a)/2)+5/9*f((b-a)/10*-15**0.5+(b+a)/2)))\n",
    "\n",
    "print(gauss2(1,2))\n",
    "\n",
    "print(gauss3(1,2))"
   ]
  },
  {
   "cell_type": "markdown",
   "metadata": {},
   "source": [
    "13."
   ]
  },
  {
   "cell_type": "markdown",
   "metadata": {},
   "source": [
    "Para lograr esto se empieza con la potencia más alta y se continua bajando de potencia:\n",
    "\n",
    "\\begin{equation}\n",
    "x^2+E_2=C_2*(\\frac{1}{2}(3x^2-1))\n",
    "\\end{equation}\n",
    "\\begin{equation}\n",
    "C_2=\\frac{2}{3}\n",
    "\\end{equation}\n",
    "\\begin{equation}\n",
    "E_2=-\\frac{2}{6}\n",
    "\\end{equation}\n",
    "\n",
    "\n",
    "\n",
    "\\begin{equation}\n",
    "5x+E_1=C_1*x\n",
    "\\end{equation}\n",
    "\\begin{equation}\n",
    "C_1=5\n",
    "\\end{equation}\n",
    "\\begin{equation}\n",
    "E_1=0\n",
    "\\end{equation}\n",
    "\n",
    "\n",
    "\n",
    "\\begin{equation}\n",
    "3=-\\frac{2}{6}+C_0*1\n",
    "\\end{equation}\n",
    "\\begin{equation}\n",
    "C_0=\\frac{10}{3}\n",
    "\\end{equation}\n",
    "\n",
    "Con los valores de los coeficientes $C_n$ se puede escribir el polinomio en bases de Legendre:\n",
    "\n",
    "\\begin{equation}\n",
    "p(x)=3+5x+x^2=\\frac{10}{3}p_0(x)+5p_1(x)+\\frac{2}{3}p_2(x)\n",
    "\\end{equation}"
   ]
  },
  {
   "cell_type": "markdown",
   "metadata": {},
   "source": [
    "16."
   ]
  },
  {
   "cell_type": "markdown",
   "metadata": {},
   "source": [
    "a."
   ]
  },
  {
   "cell_type": "code",
   "execution_count": 78,
   "metadata": {
    "scrolled": true
   },
   "outputs": [
    {
     "data": {
      "text/latex": [
       "$\\displaystyle 6.12471005399423$"
      ],
      "text/plain": [
       "6.12471005399423"
      ]
     },
     "execution_count": 78,
     "metadata": {},
     "output_type": "execute_result"
    }
   ],
   "source": [
    "def f(x): return((x**3/(sym.E**x-1)))\n",
    "gauss3(0,15)"
   ]
  },
  {
   "cell_type": "code",
   "execution_count": 83,
   "metadata": {},
   "outputs": [
    {
     "data": {
      "image/png": "[encoded data removed]",
      "text/plain": [
       "<Figure size 432x288 with 1 Axes>"
      ]
     },
     "metadata": {
      "needs_background": "light"
     },
     "output_type": "display_data"
    }
   ],
   "source": [
    "X=np.linspace(0,30)\n",
    "Y=f(X)\n",
    "plt.plot(X,Y)\n",
    "plt.show()"
   ]
  },
  {
   "cell_type": "markdown",
   "metadata": {},
   "source": [
    "Se escogió el valor superior como 15 debido a que, como la grafica ilustra, la función tiende a 0 para los valores mayores a 20. Esta aproximación, si bien inexacta, nos permite calcular la integral sin necesidad de hacer el calculo pesado de integrar hasta el infinito."
   ]
  },
  {
   "cell_type": "markdown",
   "metadata": {},
   "source": [
    "b."
   ]
  },
  {
   "cell_type": "code",
   "execution_count": null,
   "metadata": {},
   "outputs": [],
   "source": [
    "def L(x,n):\n",
    "    return(1/(sym.limit(p(x,n)))*p(x,n)/(sym.symbol('x')-x))\n",
    "def wk(x,n):"
   ]
  }
 ],
 "metadata": {
  "kernelspec": {
   "display_name": "Python 3",
   "language": "python",
   "name": "python3"
  },
  "language_info": {
   "codemirror_mode": {
    "name": "ipython",
    "version": 3
   },
   "file_extension": ".py",
   "mimetype": "text/x-python",
   "name": "python",
   "nbconvert_exporter": "python",
   "pygments_lexer": "ipython3",
   "version": "3.7.6"
  }
 },
 "nbformat": 4,
 "nbformat_minor": 4
}
