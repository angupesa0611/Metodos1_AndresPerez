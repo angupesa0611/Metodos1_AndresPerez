{
 "cells": [
  {
   "cell_type": "markdown",
   "id": "6e1301a9",
   "metadata": {},
   "source": [
    "<h1>Montecarlo</h1>"
   ]
  },
  {
   "cell_type": "markdown",
   "id": "c5ef0fca",
   "metadata": {},
   "source": [
    "<h1>4</h1>"
   ]
  },
  {
   "cell_type": "code",
   "execution_count": 163,
   "id": "425d679c",
   "metadata": {},
   "outputs": [
    {
     "data": {
      "image/png": "[encoded data removed]",
      "text/plain": [
       "<Figure size 432x288 with 1 Axes>"
      ]
     },
     "metadata": {
      "needs_background": "light"
     },
     "output_type": "display_data"
    }
   ],
   "source": [
    "import numpy as np\n",
    "import matplotlib.pyplot as plt\n",
    "\n",
    "N=10**4\n",
    "x=np.random.rand(N)\n",
    "def c(k,x):\n",
    "    sum=0\n",
    "    for i in range(len(x)-k):\n",
    "        sum=sum+x[i]*x[i+k]\n",
    "    return(1/N*sum)\n",
    "Y=[]\n",
    "X=[]\n",
    "for i in range(30):\n",
    "    Y.append(c(i+1,x))\n",
    "    X.append(i+1)\n",
    "\n",
    "plt.plot(X,Y)\n",
    "plt.title('Generador de Numpy')\n",
    "plt.xlabel('k-esimo vecino')\n",
    "plt.ylabel('C(k)')\n",
    "plt.xlim([-1, 31])\n",
    "plt.ylim([0.2, 0.3]) \n",
    "plt.show()"
   ]
  },
  {
   "cell_type": "markdown",
   "id": "e70544cc",
   "metadata": {},
   "source": [
    "<h1>6</h1>"
   ]
  },
  {
   "cell_type": "code",
   "execution_count": 164,
   "id": "45990965",
   "metadata": {},
   "outputs": [
    {
     "name": "stdout",
     "output_type": "stream",
     "text": [
      "8.658705023411699\n"
     ]
    }
   ],
   "source": [
    "## se reesccribe la ecuación en terminos de dr.\n",
    "## aparece un termino 2**-1.5 en la integral y r**2\n",
    "def f(x,y,z):\n",
    "    return(np.exp((x**2+y**2+z**2)**0.5)*(x**2+y**2+z**2))\n",
    "\n",
    "## deficinición de r\n",
    "def g(x,y,z):\n",
    "    return(x**2+y**2+z**2)\n",
    "\n",
    "N=10**5\n",
    "x=np.random.rand(N)\n",
    "y=np.random.rand(N)\n",
    "z=np.random.rand(N)\n",
    "aceptados=[]\n",
    "for i in range(N):\n",
    "    if g(x[i],y[i],z[i])<=1:\n",
    "        aceptados.append([x[i],y[i],z[i]])\n",
    "res=[]\n",
    "for i in aceptados:\n",
    "    res.append(f(i[0],i[1],i[2]))\n",
    "res=sum(res)\n",
    "\n",
    "## a y b descritos como volumenes (dependen de rmax y rmin).\n",
    "minvolumen=0\n",
    "maxvolumen=4*np.pi*1**3/3\n",
    "print(res*(maxvolumen-minvolumen)*2**1.5/N)"
   ]
  },
  {
   "cell_type": "markdown",
   "id": "ebcb8cd8",
   "metadata": {},
   "source": [
    "<h1>8</h1>"
   ]
  },
  {
   "cell_type": "code",
   "execution_count": 165,
   "id": "ab985a67",
   "metadata": {},
   "outputs": [
    {
     "name": "stdout",
     "output_type": "stream",
     "text": [
      "0.9874175103557189\n"
     ]
    }
   ],
   "source": [
    "def T(n): return(np.math.factorial(n-1));\n",
    "def f(x,a,b): return(T(a+b)/(T(a)*T(b))*x**(a-1)*(1-x)**(b-1));\n",
    "a=2\n",
    "b=4\n",
    "x=[0,1]\n",
    "\n",
    "## 0.01=1/N**0.5 --> N=100**2=10**4\n",
    "N=10**4\n",
    "x=np.random.rand(N)\n",
    "res=[]\n",
    "for i in range(N):\n",
    "    res.append(f(x[i],a,b))\n",
    "res=sum(res)\n",
    "minx=0\n",
    "maxx=1\n",
    "print(res*(maxx-minx)/N)"
   ]
  },
  {
   "cell_type": "markdown",
   "id": "62f3fae8",
   "metadata": {},
   "source": [
    "<h1>9</h1>"
   ]
  },
  {
   "cell_type": "code",
   "execution_count": 168,
   "id": "b8bbb4de",
   "metadata": {},
   "outputs": [
    {
     "name": "stdout",
     "output_type": "stream",
     "text": [
      "0.13047127799534558\n"
     ]
    }
   ],
   "source": [
    "N=1500\n",
    "def f(x):\n",
    "    cuad=0\n",
    "    for k in range(len(x)):\n",
    "        for i in x[k]:\n",
    "            for j in x[k]:\n",
    "                cuad=cuad+i*j\n",
    "    return(2**(-7)*cuad)\n",
    "x=np.random.rand(N,8)\n",
    "res=[]\n",
    "\n",
    "for i in range(N):\n",
    "    res.append(f(x))\n",
    "res=sum(res)\n",
    "minx=0\n",
    "maxx=1\n",
    "print(res*(maxx-minx)/N**2)"
   ]
  }
 ],
 "metadata": {
  "kernelspec": {
   "display_name": "Python 3",
   "language": "python",
   "name": "python3"
  },
  "language_info": {
   "codemirror_mode": {
    "name": "ipython",
    "version": 3
   },
   "file_extension": ".py",
   "mimetype": "text/x-python",
   "name": "python",
   "nbconvert_exporter": "python",
   "pygments_lexer": "ipython3",
   "version": "3.8.8"
  }
 },
 "nbformat": 4,
 "nbformat_minor": 5
}
