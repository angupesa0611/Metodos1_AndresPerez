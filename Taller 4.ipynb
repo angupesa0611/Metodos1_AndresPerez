{
 "cells": [
  {
   "cell_type": "markdown",
   "id": "cd35234b",
   "metadata": {},
   "source": [
    "<h1>Interpolación"
   ]
  },
  {
   "cell_type": "code",
   "execution_count": 2,
   "id": "f6da23b2",
   "metadata": {},
   "outputs": [],
   "source": [
    "import numpy as np\n",
    "import sympy as sym\n",
    "import csv\n",
    "import wget\n",
    "import os.path as path"
   ]
  },
  {
   "cell_type": "markdown",
   "id": "5dc422ef",
   "metadata": {},
   "source": [
    "Raíces de polinomios"
   ]
  },
  {
   "cell_type": "markdown",
   "id": "f37bd075",
   "metadata": {},
   "source": [
    "1."
   ]
  },
  {
   "cell_type": "markdown",
   "id": "646164e5",
   "metadata": {},
   "source": [
    "El error es de tipo $O(x_i^2)$ debido al truncamiento realizado al usar la expansión de Taylor. Como x_i es escojida por aleatoriamente, la magnitud del error puede ser muy masiva si la adivinanza es muy leja al resultado matemático."
   ]
  },
  {
   "cell_type": "markdown",
   "id": "3a590af9",
   "metadata": {},
   "source": [
    "2."
   ]
  },
  {
   "cell_type": "markdown",
   "id": "76a3793f",
   "metadata": {},
   "source": [
    "Se puede ajustar la presición cambiando el valor de $\\epsilon$. A menor valor $\\epsilon$ mayor presición."
   ]
  },
  {
   "cell_type": "markdown",
   "id": "2d4a3dd7",
   "metadata": {},
   "source": [
    "3."
   ]
  },
  {
   "cell_type": "code",
   "execution_count": 3,
   "id": "349e46b7",
   "metadata": {},
   "outputs": [],
   "source": [
    "e=10**-6\n",
    "x=sym.Symbol('x')\n",
    "def raphson(x1):\n",
    "    def f(x):\n",
    "        return(3*x**5+5*x**4-x**3)\n",
    "    def df(x):\n",
    "        return(15*x**4+20*x**3-3*x**2)\n",
    "    xn=x1-(f(x1)/df(x1))\n",
    "    if e >= abs(xn-x1)/abs(xn):\n",
    "        return(xn)\n",
    "    else:\n",
    "        return(raphson(xn))"
   ]
  },
  {
   "cell_type": "code",
   "execution_count": 4,
   "id": "e6d5d854",
   "metadata": {},
   "outputs": [
    {
     "name": "stdout",
     "output_type": "stream",
     "text": [
      "0.18046042171637047\n"
     ]
    }
   ],
   "source": [
    "print(raphson(100))"
   ]
  },
  {
   "cell_type": "markdown",
   "id": "3253345e",
   "metadata": {},
   "source": [
    "La ecuación $3*x^5+5*x^4-x^3$ tiene una raiz en $\\approx$ 0.18046042171637047. Por lo menos desde este valor hasta 100 no hay más raices."
   ]
  },
  {
   "cell_type": "markdown",
   "id": "17ba06f5",
   "metadata": {},
   "source": [
    "4."
   ]
  },
  {
   "cell_type": "code",
   "execution_count": 13,
   "id": "c4ab8982",
   "metadata": {
    "scrolled": true
   },
   "outputs": [
    {
     "name": "stdout",
     "output_type": "stream",
     "text": [
      "['Valor de n', 0, 'Valor de la raiz', 'No hay raices en el intervalo según este método']\n",
      "['Valor de n', 1, 'Valor de la raiz', 0.0]\n",
      "['Valor de n', 2, 'Valor de la raiz', 'No hay raices en el intervalo según este método']\n",
      "['Valor de n', 3, 'Valor de la raiz', 0.0]\n",
      "['Valor de n', 4, 'Valor de la raiz', 'No hay raices en el intervalo según este método']\n",
      "['Valor de n', 5, 'Valor de la raiz', 0.0]\n",
      "['Valor de n', 6, 'Valor de la raiz', 'No hay raices en el intervalo según este método']\n",
      "['Valor de n', 7, 'Valor de la raiz', 0.0]\n",
      "['Valor de n', 8, 'Valor de la raiz', 'No hay raices en el intervalo según este método']\n",
      "['Valor de n', 9, 'Valor de la raiz', 0.0]\n",
      "['Valor de n', 10, 'Valor de la raiz', 'No hay raices en el intervalo según este método']\n",
      "['Valor de n', 11, 'Valor de la raiz', 0.0]\n",
      "['Valor de n', 12, 'Valor de la raiz', 'No hay raices en el intervalo según este método']\n",
      "['Valor de n', 13, 'Valor de la raiz', 0.0]\n",
      "['Valor de n', 14, 'Valor de la raiz', 'No hay raices en el intervalo según este método']\n",
      "['Valor de n', 15, 'Valor de la raiz', 0.0]\n",
      "['Valor de n', 16, 'Valor de la raiz', 'No hay raices en el intervalo según este método']\n",
      "['Valor de n', 17, 'Valor de la raiz', 0.0]\n",
      "['Valor de n', 18, 'Valor de la raiz', 'No hay raices en el intervalo según este método']\n",
      "['Valor de n', 19, 'Valor de la raiz', 0.0]\n",
      "['Valor de n', 20, 'Valor de la raiz', 'No hay raices en el intervalo según este método']\n"
     ]
    }
   ],
   "source": [
    "def rootlegendre(ni,inter):\n",
    "    e=10**-6\n",
    "    x=sym.Symbol('x')\n",
    "    n=sym.Symbol('n')\n",
    "    def L(ni):\n",
    "        return(sym.diff((x**2-1)**n,x,ni)*1/(2**ni*sym.factorial(ni)))\n",
    "    xm=(inter[0]+inter[1])/2\n",
    "    lmax=L(ni).subs(n,ni).subs(x,inter[0]).evalf()\n",
    "    lmin=L(ni).subs(n,ni).subs(x,inter[1]).evalf()\n",
    "    lmid=L(ni).subs(n,ni).subs(x,xm).evalf()\n",
    "    if lmax*lmin < 0:\n",
    "        if lmid == 0:\n",
    "            return(xm)\n",
    "        elif L(ni).subs(n,ni).subs(x,inter[0]).evalf()*L(ni).subs(n,ni).subs(x,xm).evalf() < 0:\n",
    "            return(rootlegendre(ni,[inter[0],xm]))\n",
    "        else:\n",
    "            return(rootlegendre(ni,[xm,inter[1]]))\n",
    "    else:\n",
    "        return(\"No hay raices en el intervalo según este método\")\n",
    "\n",
    "inter=[-1+e,1-e]\n",
    "for i in range(21):\n",
    "    a=rootlegendre(i,inter)\n",
    "    print([\"Valor de n\",i,\"Valor de la raiz\",a])"
   ]
  },
  {
   "cell_type": "markdown",
   "id": "d02bd5ce",
   "metadata": {},
   "source": [
    "Curiosamente, aunque existen más raices para los polinomios, el método es incapaz de encontrarlas debido a la condición de $f(a)*f(b)<0$\n",
    "\n",
    "\\*además, se utilizó un intervalo (-1,1) en vez de \\[1,1\\] por que la ecuación se intermina en -1 y 1\n",
    "\n",
    "pero si usamos sympy.solvers.solve(), nos da los valores exactos, pero con algunos quedando expresados en formas de \"Rootof\". Sin embargo, esos pueden ser evaluados uno por uno. Esto, lamentablemente, aumenta el timepo de procesamiento."
   ]
  },
  {
   "cell_type": "code",
   "execution_count": null,
   "id": "dd72ca90",
   "metadata": {},
   "outputs": [],
   "source": [
    "def rootlegendre(ni,inter):\n",
    "    e=10**-6\n",
    "    x=sym.Symbol('x')\n",
    "    n=sym.Symbol('n')\n",
    "    def L(ni):\n",
    "        return(sym.diff((x**2-1)**n,x,ni)*1/(2**ni*sym.factorial(ni)))\n",
    "    a=[]\n",
    "    for i in sym.solvers.solve(L(ni).subs(n,ni),x):\n",
    "        val=i.evalf()\n",
    "        if(inter[1]>val and inter[0]<val):\n",
    "            a.append(val)\n",
    "    return(a)\n",
    "inter=[-1,1]\n",
    "for i in range(21):\n",
    "    a=rootlegendre(i,inter)\n",
    "    print([\"Valor de n\",i,\"tiene raiz\",a])\n",
    "    print(\"\")\n",
    "    print(\"\")"
   ]
  },
  {
   "cell_type": "markdown",
   "id": "5a669ea8",
   "metadata": {},
   "source": [
    "5."
   ]
  },
  {
   "cell_type": "code",
   "execution_count": null,
   "id": "96254df9",
   "metadata": {
    "scrolled": false
   },
   "outputs": [
    {
     "name": "stdout",
     "output_type": "stream",
     "text": [
      "['Valor de n', 0, 'Valor de la raiz', [-0.993128599185095, -0.963971927277914, -0.912234428251326, -0.839116971822219, -0.746331906460151, -0.636053680726515, -0.510867001950827, -0.373706088715420, -0.227785851141645, -0.0765265211334973, 0.0765265211334973, 0.227785851141645, 0.373706088715420, 0.510867001950827, 0.636053680726515, 0.746331906460151, 0.839116971822219, 0.912234428251326, 0.963971927277914, 0.993128599185095]]\n",
      "['Valor de n', 1, 'Valor de la raiz', [-0.993128599185095, -0.963971927277914, -0.912234428251326, -0.839116971822219, -0.746331906460151, -0.636053680726515, -0.510867001950827, -0.373706088715420, -0.227785851141645, -0.0765265211334973, 0.0765265211334973, 0.227785851141645, 0.373706088715420, 0.510867001950827, 0.636053680726515, 0.746331906460151, 0.839116971822219, 0.912234428251326, 0.963971927277914, 0.993128599185095, 1.00000000000000]]\n",
      "['Valor de n', 2, 'Valor de la raiz', [-0.993128599185095, -0.963971927277914, -0.912234428251326, -0.839116971822219, -0.746331906460151, -0.636053680726515, -0.510867001950827, -0.373706088715420, -0.227785851141645, -0.0765265211334973, 0.0765265211334973, 0.227785851141645, 0.373706088715420, 0.510867001950827, 0.636053680726515, 0.746331906460151, 0.839116971822219, 0.912234428251326, 0.963971927277914, 0.993128599185095, 1.00000000000000, 1.00000000000000, 3.00000000000000]]\n",
      "['Valor de n', 3, 'Valor de la raiz', [-0.993128599185095, -0.963971927277914, -0.912234428251326, -0.839116971822219, -0.746331906460151, -0.636053680726515, -0.510867001950827, -0.373706088715420, -0.227785851141645, -0.0765265211334973, 0.0765265211334973, 0.227785851141645, 0.373706088715420, 0.510867001950827, 0.636053680726515, 0.746331906460151, 0.839116971822219, 0.912234428251326, 0.963971927277914, 0.993128599185095, 1.00000000000000, 1.00000000000000, 3.00000000000000, 2.77392628621079 - 0.e-22*I, 1.39208711708517 + 0.e-22*I, 4.83398659670404 + 0.e-20*I]]\n",
      "['Valor de n', 4, 'Valor de la raiz', [-0.993128599185095, -0.963971927277914, -0.912234428251326, -0.839116971822219, -0.746331906460151, -0.636053680726515, -0.510867001950827, -0.373706088715420, -0.227785851141645, -0.0765265211334973, 0.0765265211334973, 0.227785851141645, 0.373706088715420, 0.510867001950827, 0.636053680726515, 0.746331906460151, 0.839116971822219, 0.912234428251326, 0.963971927277914, 0.993128599185095, 1.00000000000000, 1.00000000000000, 3.00000000000000, 2.77392628621079 - 0.e-22*I, 1.39208711708517 + 0.e-22*I, 4.83398659670404 + 0.e-20*I, 1.88676004694325 - 1.32400062414953e-28*I, 3.06266145553726 - 1.32400062414865e-28*I, 4.5246397673965 + 1.32400062414934e-28*I, 6.52593873012299 + 1.32400062414883e-28*I]]\n",
      "['Valor de n', 5, 'Valor de la raiz', [-0.993128599185095, -0.963971927277914, -0.912234428251326, -0.839116971822219, -0.746331906460151, -0.636053680726515, -0.510867001950827, -0.373706088715420, -0.227785851141645, -0.0765265211334973, 0.0765265211334973, 0.227785851141645, 0.373706088715420, 0.510867001950827, 0.636053680726515, 0.746331906460151, 0.839116971822219, 0.912234428251326, 0.963971927277914, 0.993128599185095, 1.00000000000000, 1.00000000000000, 3.00000000000000, 2.77392628621079 - 0.e-22*I, 1.39208711708517 + 0.e-22*I, 4.83398659670404 + 0.e-20*I, 1.88676004694325 - 1.32400062414953e-28*I, 3.06266145553726 - 1.32400062414865e-28*I, 4.5246397673965 + 1.32400062414934e-28*I, 6.52593873012299 + 1.32400062414883e-28*I, 2.43835294290122, 3.51624508701968, 4.73102907302707, 6.19355176512710, 8.12082113192493]]\n",
      "['Valor de n', 6, 'Valor de la raiz', [-0.993128599185095, -0.963971927277914, -0.912234428251326, -0.839116971822219, -0.746331906460151, -0.636053680726515, -0.510867001950827, -0.373706088715420, -0.227785851141645, -0.0765265211334973, 0.0765265211334973, 0.227785851141645, 0.373706088715420, 0.510867001950827, 0.636053680726515, 0.746331906460151, 0.839116971822219, 0.912234428251326, 0.963971927277914, 0.993128599185095, 1.00000000000000, 1.00000000000000, 3.00000000000000, 2.77392628621079 - 0.e-22*I, 1.39208711708517 + 0.e-22*I, 4.83398659670404 + 0.e-20*I, 1.88676004694325 - 1.32400062414953e-28*I, 3.06266145553726 - 1.32400062414865e-28*I, 4.5246397673965 + 1.32400062414934e-28*I, 6.52593873012299 + 1.32400062414883e-28*I, 2.43835294290122, 3.51624508701968, 4.73102907302707, 6.19355176512710, 8.12082113192493, 3.02935619229422, 4.05089171800124, 5.13291724106960, 6.35040028889218, 7.78971605792541, 9.64671850181735]]\n",
      "['Valor de n', 7, 'Valor de la raiz', [-0.993128599185095, -0.963971927277914, -0.912234428251326, -0.839116971822219, -0.746331906460151, -0.636053680726515, -0.510867001950827, -0.373706088715420, -0.227785851141645, -0.0765265211334973, 0.0765265211334973, 0.227785851141645, 0.373706088715420, 0.510867001950827, 0.636053680726515, 0.746331906460151, 0.839116971822219, 0.912234428251326, 0.963971927277914, 0.993128599185095, 1.00000000000000, 1.00000000000000, 3.00000000000000, 2.77392628621079 - 0.e-22*I, 1.39208711708517 + 0.e-22*I, 4.83398659670404 + 0.e-20*I, 1.88676004694325 - 1.32400062414953e-28*I, 3.06266145553726 - 1.32400062414865e-28*I, 4.5246397673965 + 1.32400062414934e-28*I, 6.52593873012299 + 1.32400062414883e-28*I, 2.43835294290122, 3.51624508701968, 4.73102907302707, 6.19355176512710, 8.12082113192493, 3.02935619229422, 4.05089171800124, 5.13291724106960, 6.35040028889218, 7.78971605792541, 9.64671850181735, 3.65032526753168, 4.63534648086738, 5.63519581443391, 6.71268041990534, 7.91808679729461, 9.32717103183490, 11.1211941881322]]\n"
     ]
    }
   ],
   "source": [
    "def rootlaguerre(ni,inter):\n",
    "    e=10**-6\n",
    "    x=sym.Symbol('x')\n",
    "    n=sym.Symbol('n')\n",
    "    def L(ni):\n",
    "        return(sym.diff((sym.E**(-x)*x**n)**n,x,ni)*sym.E**(x)/(sym.factorial(ni)))\n",
    "        a=[]\n",
    "    for i in sym.solvers.solve(L(ni).subs(n,ni),x):\n",
    "        a.append(i.evalf())\n",
    "    return(a)\n",
    "inter=[0,100000]\n",
    "for i in range(20):\n",
    "    a=rootlaguerre(i,inter)\n",
    "    print([\"Valor de n\",i,\"Valor de la raiz\",a])"
   ]
  },
  {
   "cell_type": "markdown",
   "id": "e162d38d",
   "metadata": {},
   "source": [
    "Interpolación"
   ]
  },
  {
   "cell_type": "markdown",
   "id": "092c6be3",
   "metadata": {},
   "source": [
    "1."
   ]
  },
  {
   "cell_type": "markdown",
   "id": "4aa80895",
   "metadata": {},
   "source": [
    "La ecuación del polinomio interpolador de Lagrange es:\n",
    "\n",
    "\\begin{equation}\n",
    "    p_n(x)=\\sum^n_{i=0}f(x_i)L_i(x)\n",
    "\\end{equation}\n",
    "\n",
    "dónde...\n",
    "\n",
    "\\begin{equation}\n",
    "    L_i(x)=\\prod^n_{j=0,j \\neq i}\\frac{x-x_j}{x_i-x_j}\n",
    "\\end{equation}\n",
    "\n",
    "Para que dos ecuaciones tengan el mismo polinomio de lagrange necesitarian el mismo $L_i(x)$, pero $L_i(x)$ de pende de $x_i$, $x_j$ y $x$. $x$ es una variable, así que su valor es arbitrario. $x_i$ y $x_j$ representan el set de datos en el eje X. Así que solo otro set de datos identico al usado puede tener el mismo polinomio.\n",
    "\n",
    "Esto significa que el polinomio es ÚNICO PARA UN SET DE DATOS DADO"
   ]
  },
  {
   "cell_type": "markdown",
   "id": "d6c56ec4",
   "metadata": {},
   "source": [
    "4."
   ]
  },
  {
   "cell_type": "code",
   "execution_count": 1,
   "id": "0426cf70",
   "metadata": {},
   "outputs": [
    {
     "name": "stdout",
     "output_type": "stream",
     "text": [
      "--Archivo ya existe---\n"
     ]
    }
   ],
   "source": [
    "archivo='Parabolico.csv'\n",
    "url='https://raw.githubusercontent.com/asegura4488/Database/main/MetodosComputacionalesReforma/Parabolico.csv'\n",
    "if not (path.exists(archivo)):\n",
    "    Path_ = wget.download(url,archivo)\n",
    "else:\n",
    "    print('--Archivo ya existe---')\n",
    "    Path_ = archivo"
   ]
  },
  {
   "cell_type": "code",
   "execution_count": 7,
   "id": "589ade14",
   "metadata": {},
   "outputs": [
    {
     "data": {
      "text/plain": [
       "[1.4, 3.5, 5.6]"
      ]
     },
     "execution_count": 7,
     "metadata": {},
     "output_type": "execute_result"
    }
   ],
   "source": [
    "with open('Parabolico.csv', newline='') as f:\n",
    "    reader = csv.reader(f)\n",
    "    data = list(reader)\n",
    "X=[]\n",
    "Y=[]\n",
    "i=1\n",
    "while i < len(data):\n",
    "    X.append(float(data[i][0]))\n",
    "    Y.append(float(data[i][1]))\n",
    "    i=i+1"
   ]
  },
  {
   "cell_type": "code",
   "execution_count": 10,
   "id": "b41b89ea",
   "metadata": {},
   "outputs": [],
   "source": [
    "def lagrange(x,xi,j):\n",
    "    prod = 1.0\n",
    "    n = len(xi)\n",
    "    \n",
    "    for i in range(n):\n",
    "        if i != j:\n",
    "            prod *= (x - xi[i])/(xi[j]-xi[i])\n",
    "            \n",
    "    return prod\n",
    "def poly(x,xi,yi):\n",
    "    \n",
    "    Sum = 0.\n",
    "    n = len(xi)\n",
    "        \n",
    "    for j in range(n):\n",
    "        Sum += yi[j]*lagrange(x,xi,j)\n",
    "        \n",
    "    return Sum"
   ]
  },
  {
   "cell_type": "code",
   "execution_count": 61,
   "id": "12141f63",
   "metadata": {
    "scrolled": true
   },
   "outputs": [
    {
     "data": {
      "text/latex": [
       "$\\displaystyle - 0.0554912422401579 x^{2} + 0.363970234266202 x$"
      ],
      "text/plain": [
       "-0.0554912422401579*x**2 + 0.363970234266202*x"
      ]
     },
     "execution_count": 61,
     "metadata": {},
     "output_type": "execute_result"
    }
   ],
   "source": [
    "x=sym.Symbol('x')\n",
    "y=poly(x,X,Y)\n",
    "f=poly(x,X,Y)\n",
    "f=sym.expand(f)\n",
    "f"
   ]
  },
  {
   "cell_type": "markdown",
   "id": "a380d4ea",
   "metadata": {},
   "source": [
    "Usando las propiedades de un tiro parabolico se obtiene que:\n",
    "\n",
    "$9.40t\\approx x$\n",
    "\n",
    "osea:\n",
    "\n",
    "$V_{0y}=0.363970234266202*t\\approx 3.42$ \\\\\n",
    "\n",
    "y\n",
    "\n",
    "$V_{0x}=9.40$"
   ]
  },
  {
   "cell_type": "code",
   "execution_count": 62,
   "id": "9f11da62",
   "metadata": {},
   "outputs": [
    {
     "name": "stdout",
     "output_type": "stream",
     "text": [
      "13.293607486307094 19.992893979869876\n"
     ]
    }
   ],
   "source": [
    "V0y=3.42\n",
    "V0x=9.40\n",
    "mag=np.sqrt(V0x**2+V0x**2)\n",
    "ang=np.arctan(V0y/V0x)*360/(2*np.pi)\n",
    "print(mag,ang)"
   ]
  },
  {
   "cell_type": "markdown",
   "id": "3a143522",
   "metadata": {},
   "source": [
    "5."
   ]
  },
  {
   "cell_type": "code",
   "execution_count": 66,
   "id": "84f37a1b",
   "metadata": {},
   "outputs": [
    {
     "name": "stdout",
     "output_type": "stream",
     "text": [
      "--Archivo ya existe---\n"
     ]
    }
   ],
   "source": [
    "archivo='InterpolacionNewtonNoequi.csv'\n",
    "url='https://raw.githubusercontent.com/asegura4488/Database/main/MetodosComputacionalesReforma/InterpolacionNewtonNoequi.csv'\n",
    "if not (path.exists(archivo)):\n",
    "    Path_ = wget.download(url,archivo)\n",
    "else:\n",
    "    print('--Archivo ya existe---')\n",
    "    Path_ = archivo"
   ]
  },
  {
   "cell_type": "code",
   "execution_count": 67,
   "id": "5af54f96",
   "metadata": {},
   "outputs": [],
   "source": [
    "with open('InterpolacionNewtonNoequi.csv', newline='') as f:\n",
    "    reader = csv.reader(f)\n",
    "    data = list(reader)\n",
    "X=[]\n",
    "Y=[]\n",
    "i=1\n",
    "while i < len(data):\n",
    "    X.append(float(data[i][0]))\n",
    "    Y.append(float(data[i][1]))\n",
    "    i=i+1"
   ]
  },
  {
   "cell_type": "code",
   "execution_count": 138,
   "id": "2260101c",
   "metadata": {},
   "outputs": [],
   "source": [
    "def fn(X,Y,i,n):\n",
    "    if n==0:\n",
    "        return(Y[i])\n",
    "    else:\n",
    "        a=fn(X,Y,i,n-1)\n",
    "        b=fn(X,Y,i-1,n-1)\n",
    "        res=(a-b)/(X[i]-X[0])\n",
    "        return(res)\n",
    "\n",
    "def pn(X,Y,i):\n",
    "    if i==0:\n",
    "        return(fn(X,Y,i,i))\n",
    "    else:\n",
    "        var=sym.Symbol('x')\n",
    "        f=1\n",
    "        for j in range(i):\n",
    "           f=f*(var-X[j]) \n",
    "        return(sym.expand(pn(X,Y,i-1)+fn(X,Y,i,i)*f))            "
   ]
  },
  {
   "cell_type": "code",
   "execution_count": 169,
   "id": "a55e46ce",
   "metadata": {},
   "outputs": [
    {
     "name": "stdout",
     "output_type": "stream",
     "text": [
      "-18.0\n",
      "3.33333333333333*x - 18.0\n",
      "1.58333333333333*x**2 + 0.958333333333333*x - 18.0\n",
      "-0.775684016134519*x**3 + 4.29822738980415*x**2 - 1.36871871507022*x - 18.0\n",
      "0.237838826695891*x**4 - 2.51190745101452*x**3 + 8.17500026494717*x**2 - 4.08008133940338*x - 18.0\n",
      "-0.043275194660857*x**5 + 0.735503565295746*x**4 - 4.54411059228837*x**3 + 11.6309573105632*x**2 - 6.15209765976521*x - 18.0\n"
     ]
    }
   ],
   "source": [
    "M=[]\n",
    "for i in range(6):\n",
    "    M.append(pn(X,Y,i))\n",
    "for i in M:\n",
    "    print(i)"
   ]
  },
  {
   "cell_type": "markdown",
   "id": "c8adfc0a",
   "metadata": {},
   "source": [
    "Hasta el grado 5 (maximo grado permitido por la ecuación) todavía todos los coedicientes son mayores a 0. Por ende el menor grado de la ecuación es grado 5."
   ]
  }
 ],
 "metadata": {
  "kernelspec": {
   "display_name": "Python 3",
   "language": "python",
   "name": "python3"
  },
  "language_info": {
   "codemirror_mode": {
    "name": "ipython",
    "version": 3
   },
   "file_extension": ".py",
   "mimetype": "text/x-python",
   "name": "python",
   "nbconvert_exporter": "python",
   "pygments_lexer": "ipython3",
   "version": "3.8.8"
  }
 },
 "nbformat": 4,
 "nbformat_minor": 5
}
