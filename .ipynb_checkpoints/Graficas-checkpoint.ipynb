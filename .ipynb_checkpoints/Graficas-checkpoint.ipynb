{
 "cells": [
  {
   "cell_type": "markdown",
   "metadata": {},
   "source": [
    "# <h1>5.1 Números primos</h1>"
   ]
  },
  {
   "cell_type": "markdown",
   "metadata": {},
   "source": [
    "<h5>Andrés Gustavo Pérez Sarmiento</h5>\n",
    "<h5>201922891</h5>"
   ]
  },
  {
   "cell_type": "markdown",
   "metadata": {},
   "source": [
    "<h5>3.</h5>"
   ]
  },
  {
   "cell_type": "code",
   "execution_count": 1,
   "metadata": {},
   "outputs": [],
   "source": [
    "def primo(n):\n",
    "    i=2\n",
    "    prime=True\n",
    "    while i < n:\n",
    "        if n%i != 0:\n",
    "            i=i+1\n",
    "        else:\n",
    "            prime=False\n",
    "            break\n",
    "    return prime"
   ]
  },
  {
   "cell_type": "code",
   "execution_count": 2,
   "metadata": {},
   "outputs": [],
   "source": [
    "def lisprimos(n):\n",
    "    i=1\n",
    "    j=0\n",
    "    while j < n:\n",
    "        if primo(i):\n",
    "            print(i)\n",
    "            j=j+1\n",
    "        i=i+1"
   ]
  },
  {
   "cell_type": "code",
   "execution_count": 3,
   "metadata": {},
   "outputs": [],
   "source": [
    "def matprimos(n):\n",
    "    a=[]\n",
    "    i=1\n",
    "    j=0\n",
    "    while j < n:\n",
    "        if primo(i):\n",
    "            a.append(i)\n",
    "            j=j+1\n",
    "        i=i+1\n",
    "    return a"
   ]
  },
  {
   "cell_type": "code",
   "execution_count": 4,
   "metadata": {},
   "outputs": [
    {
     "data": {
      "image/png": "[encoded data removed]",
      "text/plain": [
       "<Figure size 432x288 with 1 Axes>"
      ]
     },
     "metadata": {
      "needs_background": "light"
     },
     "output_type": "display_data"
    }
   ],
   "source": [
    "import numpy as np\n",
    "import matplotlib.pyplot as plt\n",
    "cantDatos=1000\n",
    "x=list(range(1,cantDatos+1))\n",
    "y=matprimos(cantDatos)\n",
    "plt.plot(x,y)\n",
    "plt.xlabel('indice del primo')\n",
    "plt.ylabel('Fibonnaci')\n",
    "plt.show()"
   ]
  }
 ],
 "metadata": {
  "kernelspec": {
   "display_name": "Python 3",
   "language": "python",
   "name": "python3"
  },
  "language_info": {
   "codemirror_mode": {
    "name": "ipython",
    "version": 3
   },
   "file_extension": ".py",
   "mimetype": "text/x-python",
   "name": "python",
   "nbconvert_exporter": "python",
   "pygments_lexer": "ipython3",
   "version": "3.7.6"
  }
 },
 "nbformat": 4,
 "nbformat_minor": 5
}
